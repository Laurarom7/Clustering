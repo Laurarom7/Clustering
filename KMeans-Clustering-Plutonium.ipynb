{
 "cells": [
  {
   "cell_type": "markdown",
   "metadata": {},
   "source": [
    "## K-Means Clusting:  Isotopic Composition Plutonium Batches\n",
    "\n",
    "#### Isotope vary in composition, but this data is used to analyze whether and how certain sets of proportions fit into clusters, specifically the isotopes with the highest proportions, Pu239 and Pu240.\n",
    "\n",
    " [data dictionary](https://vincentarelbundock.github.io/Rdatasets/doc/cluster/pluton.html)\n",
    "\n",
    "    Pu238 : the percentages of (238)Pu, always less than 2 percent.\n",
    "\n",
    "    Pu239 : the percentages of (239)Pu, typically between 60 and 80 percent (from neutron capture of Uranium, (238)U).\n",
    "\n",
    "    Pu240 : percentage of the plutonium 240 isotope.\n",
    "\n",
    "    Pu241 : percentage of the plutonium 241 isotope.\n",
    "    "
   ]
  },
  {
   "cell_type": "markdown",
   "metadata": {},
   "source": [
    "### Step 0: Import Packages and Load Data"
   ]
  },
  {
   "cell_type": "code",
   "execution_count": 8,
   "metadata": {},
   "outputs": [],
   "source": [
    "from sklearn.cluster import KMeans#, k_means\n",
    "from sklearn.metrics import silhouette_score\n",
    "from sklearn.preprocessing import StandardScaler\n",
    "\n",
    "import numpy as np\n",
    "import pandas as pd\n",
    "\n",
    "import seaborn as sns\n",
    "import matplotlib.pyplot as plt\n",
    "import matplotlib\n",
    "\n",
    "matplotlib.style.use('ggplot')\n",
    "\n",
    "%matplotlib inline"
   ]
  },
  {
   "cell_type": "code",
   "execution_count": 9,
   "metadata": {},
   "outputs": [],
   "source": [
    "csv_file = \"https://vincentarelbundock.github.io/Rdatasets/csv/cluster/pluton.csv\"\n",
    "\n",
    "df = pd.read_csv(csv_file)\n",
    "df.drop(\"Unnamed: 0\",axis=1,inplace=True)"
   ]
  },
  {
   "cell_type": "markdown",
   "metadata": {},
   "source": [
    "### Step 1: Explore Data"
   ]
  },
  {
   "cell_type": "code",
   "execution_count": 10,
   "metadata": {},
   "outputs": [
    {
     "data": {
      "text/html": [
       "<div>\n",
       "<style scoped>\n",
       "    .dataframe tbody tr th:only-of-type {\n",
       "        vertical-align: middle;\n",
       "    }\n",
       "\n",
       "    .dataframe tbody tr th {\n",
       "        vertical-align: top;\n",
       "    }\n",
       "\n",
       "    .dataframe thead th {\n",
       "        text-align: right;\n",
       "    }\n",
       "</style>\n",
       "<table border=\"1\" class=\"dataframe\">\n",
       "  <thead>\n",
       "    <tr style=\"text-align: right;\">\n",
       "      <th></th>\n",
       "      <th>Pu238</th>\n",
       "      <th>Pu239</th>\n",
       "      <th>Pu240</th>\n",
       "      <th>Pu241</th>\n",
       "    </tr>\n",
       "  </thead>\n",
       "  <tbody>\n",
       "    <tr>\n",
       "      <th>0</th>\n",
       "      <td>0.126</td>\n",
       "      <td>75.804</td>\n",
       "      <td>21.204</td>\n",
       "      <td>2.180</td>\n",
       "    </tr>\n",
       "    <tr>\n",
       "      <th>1</th>\n",
       "      <td>0.133</td>\n",
       "      <td>75.515</td>\n",
       "      <td>21.408</td>\n",
       "      <td>2.240</td>\n",
       "    </tr>\n",
       "    <tr>\n",
       "      <th>2</th>\n",
       "      <td>0.127</td>\n",
       "      <td>75.175</td>\n",
       "      <td>21.668</td>\n",
       "      <td>2.305</td>\n",
       "    </tr>\n",
       "    <tr>\n",
       "      <th>3</th>\n",
       "      <td>0.156</td>\n",
       "      <td>78.872</td>\n",
       "      <td>18.428</td>\n",
       "      <td>1.906</td>\n",
       "    </tr>\n",
       "    <tr>\n",
       "      <th>4</th>\n",
       "      <td>0.503</td>\n",
       "      <td>73.317</td>\n",
       "      <td>20.223</td>\n",
       "      <td>4.128</td>\n",
       "    </tr>\n",
       "  </tbody>\n",
       "</table>\n",
       "</div>"
      ],
      "text/plain": [
       "   Pu238   Pu239   Pu240  Pu241\n",
       "0  0.126  75.804  21.204  2.180\n",
       "1  0.133  75.515  21.408  2.240\n",
       "2  0.127  75.175  21.668  2.305\n",
       "3  0.156  78.872  18.428  1.906\n",
       "4  0.503  73.317  20.223  4.128"
      ]
     },
     "execution_count": 10,
     "metadata": {},
     "output_type": "execute_result"
    }
   ],
   "source": [
    "df.head()"
   ]
  },
  {
   "cell_type": "markdown",
   "metadata": {},
   "source": [
    "**Visualize the data**"
   ]
  },
  {
   "cell_type": "code",
   "execution_count": 11,
   "metadata": {},
   "outputs": [
    {
     "data": {
      "text/plain": [
       "Text(0.5, 1.0, 'Pu239 vs Pu240 Isotope Percentages in Plutonium')"
      ]
     },
     "execution_count": 11,
     "metadata": {},
     "output_type": "execute_result"
    },
    {
     "data": {
      "image/png": "[encoded data removed]",
      "text/plain": [
       "<Figure size 720x432 with 1 Axes>"
      ]
     },
     "metadata": {},
     "output_type": "display_data"
    }
   ],
   "source": [
    "fig = plt.figure(figsize=(10,6))\n",
    "plt.scatter(df['Pu239'],df['Pu240'])\n",
    "plt.xlabel(\"(239)Pu\")\n",
    "plt.ylabel(\"Pu 240\")\n",
    "plt.title(\"Pu239 vs Pu240 Isotope Percentages in Plutonium\")"
   ]
  },
  {
   "cell_type": "markdown",
   "metadata": {},
   "source": [
    "Observations: This plot there appears to be 3, 4, maybe 5 clusters."
   ]
  },
  {
   "cell_type": "markdown",
   "metadata": {},
   "source": [
    "### Step 3: Modeling:"
   ]
  },
  {
   "cell_type": "markdown",
   "metadata": {},
   "source": [
    "**Set \"Pu239\" and \"Pu240\" as features, initialize 3 clusters and scale data**"
   ]
  },
  {
   "cell_type": "code",
   "execution_count": 27,
   "metadata": {},
   "outputs": [
    {
     "data": {
      "text/plain": [
       "KMeans(algorithm='auto', copy_x=True, init='k-means++', max_iter=300,\n",
       "    n_clusters=3, n_init=10, n_jobs=1, precompute_distances='auto',\n",
       "    random_state=None, tol=0.0001, verbose=0)"
      ]
     },
     "execution_count": 27,
     "metadata": {},
     "output_type": "execute_result"
    }
   ],
   "source": [
    "# A: \n",
    "X = df[['Pu239','Pu240']]\n",
    "kmeans = KMeans(n_clusters=3)\n",
    "ss = StandardScaler()\n",
    "X_scaled = ss.fit_transform(X)\n",
    "\n",
    "kmeans.fit(X_scaled)"
   ]
  },
  {
   "cell_type": "code",
   "execution_count": 28,
   "metadata": {},
   "outputs": [
    {
     "data": {
      "text/plain": [
       "<bound method BaseEstimator.get_params of KMeans(algorithm='auto', copy_x=True, init='k-means++', max_iter=300,\n",
       "    n_clusters=3, n_init=10, n_jobs=1, precompute_distances='auto',\n",
       "    random_state=None, tol=0.0001, verbose=0)>"
      ]
     },
     "execution_count": 28,
     "metadata": {},
     "output_type": "execute_result"
    }
   ],
   "source": [
    "kmeans.get_params"
   ]
  },
  {
   "cell_type": "code",
   "execution_count": 29,
   "metadata": {},
   "outputs": [
    {
     "data": {
      "text/plain": [
       "array([2, 2, 2, 0, 2, 0, 2, 2, 1, 1, 1, 1, 1, 1, 1, 1, 0, 0, 2, 0, 1, 0,\n",
       "       2, 2, 2, 2, 2, 2, 0, 0, 0, 0, 0, 2, 2, 0, 1, 1, 1, 1, 1, 2, 2, 2,\n",
       "       1], dtype=int32)"
      ]
     },
     "execution_count": 29,
     "metadata": {},
     "output_type": "execute_result"
    }
   ],
   "source": [
    "preds = kmeans.labels_\n",
    "preds"
   ]
  },
  {
   "cell_type": "markdown",
   "metadata": {},
   "source": [
    "**Assign clusters assignments (predictions) back to the original dataframe**"
   ]
  },
  {
   "cell_type": "code",
   "execution_count": 30,
   "metadata": {},
   "outputs": [
    {
     "data": {
      "text/plain": [
       "array([[ 0.63767668, -1.2653207 ],\n",
       "       [-1.31858916,  1.19688286],\n",
       "       [ 0.67370652, -0.15385525]])"
      ]
     },
     "execution_count": 30,
     "metadata": {},
     "output_type": "execute_result"
    }
   ],
   "source": [
    "kmeans.cluster_centers_"
   ]
  },
  {
   "cell_type": "code",
   "execution_count": 31,
   "metadata": {},
   "outputs": [],
   "source": [
    "df_X_scaled = pd.DataFrame(X_scaled, columns =[\"Pu239\",\"Pu240\"])"
   ]
  },
  {
   "cell_type": "code",
   "execution_count": 32,
   "metadata": {},
   "outputs": [
    {
     "data": {
      "text/html": [
       "<div>\n",
       "<style scoped>\n",
       "    .dataframe tbody tr th:only-of-type {\n",
       "        vertical-align: middle;\n",
       "    }\n",
       "\n",
       "    .dataframe tbody tr th {\n",
       "        vertical-align: top;\n",
       "    }\n",
       "\n",
       "    .dataframe thead th {\n",
       "        text-align: right;\n",
       "    }\n",
       "</style>\n",
       "<table border=\"1\" class=\"dataframe\">\n",
       "  <thead>\n",
       "    <tr style=\"text-align: right;\">\n",
       "      <th></th>\n",
       "      <th>Pu239</th>\n",
       "      <th>Pu240</th>\n",
       "    </tr>\n",
       "  </thead>\n",
       "  <tbody>\n",
       "    <tr>\n",
       "      <th>0</th>\n",
       "      <td>0.832106</td>\n",
       "      <td>-0.138176</td>\n",
       "    </tr>\n",
       "    <tr>\n",
       "      <th>1</th>\n",
       "      <td>0.791133</td>\n",
       "      <td>-0.052625</td>\n",
       "    </tr>\n",
       "    <tr>\n",
       "      <th>2</th>\n",
       "      <td>0.742931</td>\n",
       "      <td>0.056409</td>\n",
       "    </tr>\n",
       "    <tr>\n",
       "      <th>3</th>\n",
       "      <td>1.267063</td>\n",
       "      <td>-1.302330</td>\n",
       "    </tr>\n",
       "    <tr>\n",
       "      <th>4</th>\n",
       "      <td>0.479518</td>\n",
       "      <td>-0.549572</td>\n",
       "    </tr>\n",
       "  </tbody>\n",
       "</table>\n",
       "</div>"
      ],
      "text/plain": [
       "      Pu239     Pu240\n",
       "0  0.832106 -0.138176\n",
       "1  0.791133 -0.052625\n",
       "2  0.742931  0.056409\n",
       "3  1.267063 -1.302330\n",
       "4  0.479518 -0.549572"
      ]
     },
     "execution_count": 32,
     "metadata": {},
     "output_type": "execute_result"
    }
   ],
   "source": [
    "df_X_scaled.head()"
   ]
  },
  {
   "cell_type": "code",
   "execution_count": 33,
   "metadata": {},
   "outputs": [
    {
     "data": {
      "text/html": [
       "<div>\n",
       "<style scoped>\n",
       "    .dataframe tbody tr th:only-of-type {\n",
       "        vertical-align: middle;\n",
       "    }\n",
       "\n",
       "    .dataframe tbody tr th {\n",
       "        vertical-align: top;\n",
       "    }\n",
       "\n",
       "    .dataframe thead th {\n",
       "        text-align: right;\n",
       "    }\n",
       "</style>\n",
       "<table border=\"1\" class=\"dataframe\">\n",
       "  <thead>\n",
       "    <tr style=\"text-align: right;\">\n",
       "      <th></th>\n",
       "      <th>Pu239</th>\n",
       "      <th>Pu240</th>\n",
       "      <th>clusters</th>\n",
       "    </tr>\n",
       "  </thead>\n",
       "  <tbody>\n",
       "    <tr>\n",
       "      <th>0</th>\n",
       "      <td>0.832106</td>\n",
       "      <td>-0.138176</td>\n",
       "      <td>2</td>\n",
       "    </tr>\n",
       "    <tr>\n",
       "      <th>1</th>\n",
       "      <td>0.791133</td>\n",
       "      <td>-0.052625</td>\n",
       "      <td>2</td>\n",
       "    </tr>\n",
       "    <tr>\n",
       "      <th>2</th>\n",
       "      <td>0.742931</td>\n",
       "      <td>0.056409</td>\n",
       "      <td>2</td>\n",
       "    </tr>\n",
       "    <tr>\n",
       "      <th>3</th>\n",
       "      <td>1.267063</td>\n",
       "      <td>-1.302330</td>\n",
       "      <td>0</td>\n",
       "    </tr>\n",
       "    <tr>\n",
       "      <th>4</th>\n",
       "      <td>0.479518</td>\n",
       "      <td>-0.549572</td>\n",
       "      <td>2</td>\n",
       "    </tr>\n",
       "  </tbody>\n",
       "</table>\n",
       "</div>"
      ],
      "text/plain": [
       "      Pu239     Pu240  clusters\n",
       "0  0.832106 -0.138176         2\n",
       "1  0.791133 -0.052625         2\n",
       "2  0.742931  0.056409         2\n",
       "3  1.267063 -1.302330         0\n",
       "4  0.479518 -0.549572         2"
      ]
     },
     "execution_count": 33,
     "metadata": {},
     "output_type": "execute_result"
    }
   ],
   "source": [
    "df_X_scaled['clusters'] = preds\n",
    "df_X_scaled.head()"
   ]
  },
  {
   "cell_type": "markdown",
   "metadata": {},
   "source": [
    "** Plot the centroids from the model **"
   ]
  },
  {
   "cell_type": "code",
   "execution_count": 34,
   "metadata": {},
   "outputs": [
    {
     "data": {
      "text/html": [
       "<div>\n",
       "<style scoped>\n",
       "    .dataframe tbody tr th:only-of-type {\n",
       "        vertical-align: middle;\n",
       "    }\n",
       "\n",
       "    .dataframe tbody tr th {\n",
       "        vertical-align: top;\n",
       "    }\n",
       "\n",
       "    .dataframe thead th {\n",
       "        text-align: right;\n",
       "    }\n",
       "</style>\n",
       "<table border=\"1\" class=\"dataframe\">\n",
       "  <thead>\n",
       "    <tr style=\"text-align: right;\">\n",
       "      <th></th>\n",
       "      <th>x</th>\n",
       "      <th>y</th>\n",
       "    </tr>\n",
       "  </thead>\n",
       "  <tbody>\n",
       "    <tr>\n",
       "      <th>0</th>\n",
       "      <td>0.637677</td>\n",
       "      <td>-1.265321</td>\n",
       "    </tr>\n",
       "    <tr>\n",
       "      <th>1</th>\n",
       "      <td>-1.318589</td>\n",
       "      <td>1.196883</td>\n",
       "    </tr>\n",
       "    <tr>\n",
       "      <th>2</th>\n",
       "      <td>0.673707</td>\n",
       "      <td>-0.153855</td>\n",
       "    </tr>\n",
       "  </tbody>\n",
       "</table>\n",
       "</div>"
      ],
      "text/plain": [
       "          x         y\n",
       "0  0.637677 -1.265321\n",
       "1 -1.318589  1.196883\n",
       "2  0.673707 -0.153855"
      ]
     },
     "execution_count": 34,
     "metadata": {},
     "output_type": "execute_result"
    }
   ],
   "source": [
    "centroids = pd.DataFrame(kmeans.cluster_centers_,columns=[\"x\",\"y\"])\n",
    "centroids"
   ]
  },
  {
   "cell_type": "code",
   "execution_count": 41,
   "metadata": {},
   "outputs": [],
   "source": [
    "colors = [\"b\", \"darkorchid\",\"lightseagreen\"]\n",
    "df_X_scaled['colors'] = df_X_scaled['clusters'].map(lambda p: colors[p])"
   ]
  },
  {
   "cell_type": "code",
   "execution_count": 42,
   "metadata": {},
   "outputs": [
    {
     "data": {
      "text/html": [
       "<div>\n",
       "<style scoped>\n",
       "    .dataframe tbody tr th:only-of-type {\n",
       "        vertical-align: middle;\n",
       "    }\n",
       "\n",
       "    .dataframe tbody tr th {\n",
       "        vertical-align: top;\n",
       "    }\n",
       "\n",
       "    .dataframe thead th {\n",
       "        text-align: right;\n",
       "    }\n",
       "</style>\n",
       "<table border=\"1\" class=\"dataframe\">\n",
       "  <thead>\n",
       "    <tr style=\"text-align: right;\">\n",
       "      <th></th>\n",
       "      <th>Pu239</th>\n",
       "      <th>Pu240</th>\n",
       "      <th>clusters</th>\n",
       "      <th>colors</th>\n",
       "    </tr>\n",
       "  </thead>\n",
       "  <tbody>\n",
       "    <tr>\n",
       "      <th>0</th>\n",
       "      <td>0.832106</td>\n",
       "      <td>-0.138176</td>\n",
       "      <td>2</td>\n",
       "      <td>lightseagreen</td>\n",
       "    </tr>\n",
       "    <tr>\n",
       "      <th>1</th>\n",
       "      <td>0.791133</td>\n",
       "      <td>-0.052625</td>\n",
       "      <td>2</td>\n",
       "      <td>lightseagreen</td>\n",
       "    </tr>\n",
       "    <tr>\n",
       "      <th>2</th>\n",
       "      <td>0.742931</td>\n",
       "      <td>0.056409</td>\n",
       "      <td>2</td>\n",
       "      <td>lightseagreen</td>\n",
       "    </tr>\n",
       "    <tr>\n",
       "      <th>3</th>\n",
       "      <td>1.267063</td>\n",
       "      <td>-1.302330</td>\n",
       "      <td>0</td>\n",
       "      <td>b</td>\n",
       "    </tr>\n",
       "    <tr>\n",
       "      <th>4</th>\n",
       "      <td>0.479518</td>\n",
       "      <td>-0.549572</td>\n",
       "      <td>2</td>\n",
       "      <td>lightseagreen</td>\n",
       "    </tr>\n",
       "  </tbody>\n",
       "</table>\n",
       "</div>"
      ],
      "text/plain": [
       "      Pu239     Pu240  clusters         colors\n",
       "0  0.832106 -0.138176         2  lightseagreen\n",
       "1  0.791133 -0.052625         2  lightseagreen\n",
       "2  0.742931  0.056409         2  lightseagreen\n",
       "3  1.267063 -1.302330         0              b\n",
       "4  0.479518 -0.549572         2  lightseagreen"
      ]
     },
     "execution_count": 42,
     "metadata": {},
     "output_type": "execute_result"
    }
   ],
   "source": [
    "df_X_scaled.head()"
   ]
  },
  {
   "cell_type": "code",
   "execution_count": 46,
   "metadata": {},
   "outputs": [
    {
     "data": {
      "text/plain": [
       "Text(0.5, 1.0, 'Pu239 vs Pu240 Isotope Percentages in Plutonium')"
      ]
     },
     "execution_count": 46,
     "metadata": {},
     "output_type": "execute_result"
    },
    {
     "data": {
      "image/png": "[encoded data removed]",
      "text/plain": [
       "<Figure size 720x432 with 1 Axes>"
      ]
     },
     "metadata": {},
     "output_type": "display_data"
    }
   ],
   "source": [
    "# A:\n",
    "fig = plt.figure(figsize=(10,6))\n",
    "plt.scatter(df_X_scaled['Pu239'],df_X_scaled['Pu240'],c=df_X_scaled['colors'])\n",
    "#add centroids\n",
    "plt.scatter(centroids['x'],centroids['y'],c='darkorange')\n",
    "plt.xlabel(\"(239)Pu\")\n",
    "plt.ylabel(\"Pu 240\")\n",
    "plt.title(\"Pu239 vs Pu240 Isotope Percentages in Plutonium\")\n"
   ]
  },
  {
   "cell_type": "markdown",
   "metadata": {},
   "source": [
    "** Calculate silhouette score **"
   ]
  },
  {
   "cell_type": "code",
   "execution_count": 45,
   "metadata": {},
   "outputs": [
    {
     "data": {
      "text/plain": [
       "0.633217477686232"
      ]
     },
     "execution_count": 45,
     "metadata": {},
     "output_type": "execute_result"
    }
   ],
   "source": [
    "silhouette_score(df_X_scaled[['Pu239', 'Pu240']], df_X_scaled['clusters'])"
   ]
  },
  {
   "cell_type": "markdown",
   "metadata": {},
   "source": [
    "The silhouette score should be aiming for 1.0, soa score of 0.63 is ok - but could it be better? From the looks of the plot, 3 cluster is ok, but let's try more and see if the scores improves."
   ]
  },
  {
   "cell_type": "markdown",
   "metadata": {},
   "source": [
    "#### Initialize 4 clusters and scale data"
   ]
  },
  {
   "cell_type": "code",
   "execution_count": 61,
   "metadata": {},
   "outputs": [],
   "source": [
    "X = df[['Pu239','Pu240']]\n",
    "kmeans = KMeans(n_clusters=4)\n",
    "ss = StandardScaler()\n",
    "X_scaled2 = ss.fit_transform(X)\n",
    "kmeans.fit(X_scaled2)\n",
    "preds2 = kmeans.labels_"
   ]
  },
  {
   "cell_type": "code",
   "execution_count": 62,
   "metadata": {
    "scrolled": true
   },
   "outputs": [],
   "source": [
    "df_X_scaled2 = pd.DataFrame(X_scaled2,columns=[\"Pu239\",\"Pu240\"])\n",
    "df_X_scaled2['clusters'] = preds2"
   ]
  },
  {
   "cell_type": "code",
   "execution_count": 64,
   "metadata": {},
   "outputs": [],
   "source": [
    "centroids = pd.DataFrame(kmeans.cluster_centers_,columns=[\"x\",\"y\"])"
   ]
  },
  {
   "cell_type": "code",
   "execution_count": 65,
   "metadata": {},
   "outputs": [],
   "source": [
    "colors = [\"green\", \"b\", \"darkorchid\",\"lightseagreen\"]\n",
    "#df['color'] = \n",
    "df_X_scaled2['colors'] = df_X_scaled2['clusters'].map(lambda p: colors[p])"
   ]
  },
  {
   "cell_type": "code",
   "execution_count": 66,
   "metadata": {},
   "outputs": [
    {
     "data": {
      "text/html": [
       "<div>\n",
       "<style scoped>\n",
       "    .dataframe tbody tr th:only-of-type {\n",
       "        vertical-align: middle;\n",
       "    }\n",
       "\n",
       "    .dataframe tbody tr th {\n",
       "        vertical-align: top;\n",
       "    }\n",
       "\n",
       "    .dataframe thead th {\n",
       "        text-align: right;\n",
       "    }\n",
       "</style>\n",
       "<table border=\"1\" class=\"dataframe\">\n",
       "  <thead>\n",
       "    <tr style=\"text-align: right;\">\n",
       "      <th></th>\n",
       "      <th>Pu239</th>\n",
       "      <th>Pu240</th>\n",
       "      <th>clusters</th>\n",
       "      <th>colors</th>\n",
       "    </tr>\n",
       "  </thead>\n",
       "  <tbody>\n",
       "    <tr>\n",
       "      <th>0</th>\n",
       "      <td>0.832106</td>\n",
       "      <td>-0.138176</td>\n",
       "      <td>1</td>\n",
       "      <td>b</td>\n",
       "    </tr>\n",
       "    <tr>\n",
       "      <th>1</th>\n",
       "      <td>0.791133</td>\n",
       "      <td>-0.052625</td>\n",
       "      <td>1</td>\n",
       "      <td>b</td>\n",
       "    </tr>\n",
       "    <tr>\n",
       "      <th>2</th>\n",
       "      <td>0.742931</td>\n",
       "      <td>0.056409</td>\n",
       "      <td>1</td>\n",
       "      <td>b</td>\n",
       "    </tr>\n",
       "    <tr>\n",
       "      <th>3</th>\n",
       "      <td>1.267063</td>\n",
       "      <td>-1.302330</td>\n",
       "      <td>3</td>\n",
       "      <td>lightseagreen</td>\n",
       "    </tr>\n",
       "    <tr>\n",
       "      <th>4</th>\n",
       "      <td>0.479518</td>\n",
       "      <td>-0.549572</td>\n",
       "      <td>1</td>\n",
       "      <td>b</td>\n",
       "    </tr>\n",
       "  </tbody>\n",
       "</table>\n",
       "</div>"
      ],
      "text/plain": [
       "      Pu239     Pu240  clusters         colors\n",
       "0  0.832106 -0.138176         1              b\n",
       "1  0.791133 -0.052625         1              b\n",
       "2  0.742931  0.056409         1              b\n",
       "3  1.267063 -1.302330         3  lightseagreen\n",
       "4  0.479518 -0.549572         1              b"
      ]
     },
     "execution_count": 66,
     "metadata": {},
     "output_type": "execute_result"
    }
   ],
   "source": [
    "df_X_scaled2.head()"
   ]
  },
  {
   "cell_type": "code",
   "execution_count": 67,
   "metadata": {
    "scrolled": true
   },
   "outputs": [
    {
     "data": {
      "text/plain": [
       "Text(0.5, 1.0, 'Pu239 vs Pu240 Isotope Percentages in Plutonium')"
      ]
     },
     "execution_count": 67,
     "metadata": {},
     "output_type": "execute_result"
    },
    {
     "data": {
      "image/png": "[encoded data removed]",
      "text/plain": [
       "<Figure size 720x432 with 1 Axes>"
      ]
     },
     "metadata": {},
     "output_type": "display_data"
    }
   ],
   "source": [
    "# A:\n",
    "fig = plt.figure(figsize=(10,6))\n",
    "plt.scatter(df_X_scaled2['Pu239'],df_X_scaled2['Pu240'],c=df_X_scaled2['colors'])\n",
    "#add centroids\n",
    "plt.scatter(centroids['x'],centroids['y'],c='darkorange')\n",
    "plt.xlabel(\"(239)Pu\")\n",
    "plt.ylabel(\"Pu 240\")\n",
    "plt.title(\"Pu239 vs Pu240 Isotope Percentages in Plutonium\")"
   ]
  },
  {
   "cell_type": "code",
   "execution_count": 68,
   "metadata": {},
   "outputs": [
    {
     "data": {
      "text/plain": [
       "0.7196283186162103"
      ]
     },
     "execution_count": 68,
     "metadata": {},
     "output_type": "execute_result"
    }
   ],
   "source": [
    "silhouette_score(df_X_scaled2[['Pu239', 'Pu240']], df_X_scaled2['clusters'])"
   ]
  },
  {
   "cell_type": "markdown",
   "metadata": {},
   "source": [
    "Adding a more cluster (total 4) improved the Silhouette score by 9%."
   ]
  },
  {
   "cell_type": "markdown",
   "metadata": {},
   "source": [
    "#### Initialize 5 clusters"
   ]
  },
  {
   "cell_type": "code",
   "execution_count": 70,
   "metadata": {},
   "outputs": [],
   "source": [
    "X = df[['Pu239','Pu240']]\n",
    "kmeans = KMeans(n_clusters=5)\n",
    "ss = StandardScaler()\n",
    "X_scaled2 = ss.fit_transform(X)\n",
    "kmeans.fit(X_scaled2)\n",
    "preds2 = kmeans.labels_"
   ]
  },
  {
   "cell_type": "code",
   "execution_count": 71,
   "metadata": {
    "scrolled": true
   },
   "outputs": [],
   "source": [
    "df_X_scaled2 = pd.DataFrame(X_scaled2,columns=[\"Pu239\",\"Pu240\"])\n",
    "df_X_scaled2['clusters'] = preds2"
   ]
  },
  {
   "cell_type": "code",
   "execution_count": 72,
   "metadata": {},
   "outputs": [],
   "source": [
    "centroids = pd.DataFrame(kmeans.cluster_centers_,columns=[\"x\",\"y\"])"
   ]
  },
  {
   "cell_type": "code",
   "execution_count": 73,
   "metadata": {},
   "outputs": [],
   "source": [
    "colors = [\"green\", \"b\", \"darkorchid\",\"lightseagreen\",\"fuchsia\"]\n",
    "#df['color'] = \n",
    "df_X_scaled2['colors'] = df_X_scaled2['clusters'].map(lambda p: colors[p])"
   ]
  },
  {
   "cell_type": "code",
   "execution_count": 74,
   "metadata": {},
   "outputs": [
    {
     "data": {
      "text/html": [
       "<div>\n",
       "<style scoped>\n",
       "    .dataframe tbody tr th:only-of-type {\n",
       "        vertical-align: middle;\n",
       "    }\n",
       "\n",
       "    .dataframe tbody tr th {\n",
       "        vertical-align: top;\n",
       "    }\n",
       "\n",
       "    .dataframe thead th {\n",
       "        text-align: right;\n",
       "    }\n",
       "</style>\n",
       "<table border=\"1\" class=\"dataframe\">\n",
       "  <thead>\n",
       "    <tr style=\"text-align: right;\">\n",
       "      <th></th>\n",
       "      <th>Pu239</th>\n",
       "      <th>Pu240</th>\n",
       "      <th>clusters</th>\n",
       "      <th>colors</th>\n",
       "    </tr>\n",
       "  </thead>\n",
       "  <tbody>\n",
       "    <tr>\n",
       "      <th>0</th>\n",
       "      <td>0.832106</td>\n",
       "      <td>-0.138176</td>\n",
       "      <td>1</td>\n",
       "      <td>b</td>\n",
       "    </tr>\n",
       "    <tr>\n",
       "      <th>1</th>\n",
       "      <td>0.791133</td>\n",
       "      <td>-0.052625</td>\n",
       "      <td>1</td>\n",
       "      <td>b</td>\n",
       "    </tr>\n",
       "    <tr>\n",
       "      <th>2</th>\n",
       "      <td>0.742931</td>\n",
       "      <td>0.056409</td>\n",
       "      <td>1</td>\n",
       "      <td>b</td>\n",
       "    </tr>\n",
       "    <tr>\n",
       "      <th>3</th>\n",
       "      <td>1.267063</td>\n",
       "      <td>-1.302330</td>\n",
       "      <td>2</td>\n",
       "      <td>darkorchid</td>\n",
       "    </tr>\n",
       "    <tr>\n",
       "      <th>4</th>\n",
       "      <td>0.479518</td>\n",
       "      <td>-0.549572</td>\n",
       "      <td>1</td>\n",
       "      <td>b</td>\n",
       "    </tr>\n",
       "  </tbody>\n",
       "</table>\n",
       "</div>"
      ],
      "text/plain": [
       "      Pu239     Pu240  clusters      colors\n",
       "0  0.832106 -0.138176         1           b\n",
       "1  0.791133 -0.052625         1           b\n",
       "2  0.742931  0.056409         1           b\n",
       "3  1.267063 -1.302330         2  darkorchid\n",
       "4  0.479518 -0.549572         1           b"
      ]
     },
     "execution_count": 74,
     "metadata": {},
     "output_type": "execute_result"
    }
   ],
   "source": [
    "df_X_scaled2.head()"
   ]
  },
  {
   "cell_type": "code",
   "execution_count": 75,
   "metadata": {
    "scrolled": false
   },
   "outputs": [
    {
     "data": {
      "image/png": "[encoded data removed]",
      "text/plain": [
       "<Figure size 720x432 with 1 Axes>"
      ]
     },
     "metadata": {},
     "output_type": "display_data"
    }
   ],
   "source": [
    "# A:\n",
    "fig = plt.figure(figsize=(10,6))\n",
    "plt.scatter(df_X_scaled2['Pu239'],df_X_scaled2['Pu240'],c=df_X_scaled2['colors'])\n",
    "#add centroids\n",
    "plt.scatter(centroids['x'],centroids['y'],c='darkorange')\n",
    "plt.xlabel(\"(239)Pu\")\n",
    "plt.ylabel(\"Pu 240\")\n",
    "plt.title(\"Pu239 vs Pu240 Isotope Percentages in Plutonium\");"
   ]
  },
  {
   "cell_type": "code",
   "execution_count": 76,
   "metadata": {
    "scrolled": false
   },
   "outputs": [
    {
     "data": {
      "text/plain": [
       "0.6861082018190413"
      ]
     },
     "execution_count": 76,
     "metadata": {},
     "output_type": "execute_result"
    }
   ],
   "source": [
    "silhouette_score(df_X_scaled2[['Pu239', 'Pu240']], df_X_scaled2['clusters'])"
   ]
  },
  {
   "cell_type": "markdown",
   "metadata": {},
   "source": [
    "While visualizally, 5 clusters makes sense, the silhouette scores did not improve from 4 clusters. "
   ]
  }
 ],
 "metadata": {
  "kernelspec": {
   "display_name": "Python 3",
   "language": "python",
   "name": "python3"
  },
  "language_info": {
   "codemirror_mode": {
    "name": "ipython",
    "version": 3
   },
   "file_extension": ".py",
   "mimetype": "text/x-python",
   "name": "python",
   "nbconvert_exporter": "python",
   "pygments_lexer": "ipython3",
   "version": "3.6.5"
  }
 },
 "nbformat": 4,
 "nbformat_minor": 2
}
